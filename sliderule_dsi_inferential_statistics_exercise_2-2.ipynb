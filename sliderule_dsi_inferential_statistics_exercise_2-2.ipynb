{
 "cells": [
  {
   "cell_type": "markdown",
   "metadata": {},
   "source": [
    "# Examining Racial Discrimination in the US Job Market\n",
    "\n",
    "### Background\n",
    "Racial discrimination continues to be pervasive in cultures throughout the world. Researchers examined the level of racial discrimination in the United States labor market by randomly assigning identical résumés to black-sounding or white-sounding names and observing the impact on requests for interviews from employers.\n",
    "\n",
    "### Data\n",
    "In the dataset provided, each row represents a resume. The 'race' column has two values, 'b' and 'w', indicating black-sounding and white-sounding. The column 'call' has two values, 1 and 0, indicating whether the resume received a call from employers or not.\n",
    "\n",
    "Note that the 'b' and 'w' values in race are assigned randomly to the resumes when presented to the employer."
   ]
  },
  {
   "cell_type": "code",
   "execution_count": 38,
   "metadata": {
    "collapsed": true
   },
   "outputs": [],
   "source": [
    "import pandas as pd\n",
    "import numpy as np\n",
    "from scipy import stats"
   ]
  },
  {
   "cell_type": "code",
   "execution_count": 39,
   "metadata": {
    "collapsed": true
   },
   "outputs": [],
   "source": [
    "data = pd.io.stata.read_stata('data/us_job_market_discrimination.dta')"
   ]
  },
  {
   "cell_type": "code",
   "execution_count": 40,
   "metadata": {},
   "outputs": [
    {
     "data": {
      "text/plain": [
       "157.0"
      ]
     },
     "execution_count": 40,
     "metadata": {},
     "output_type": "execute_result"
    }
   ],
   "source": [
    "# number of callbacks for black-sounding names\n",
    "sum(data[data.race=='b'].call)"
   ]
  },
  {
   "cell_type": "code",
   "execution_count": 41,
   "metadata": {},
   "outputs": [
    {
     "data": {
      "text/html": [
       "<div>\n",
       "<style>\n",
       "    .dataframe thead tr:only-child th {\n",
       "        text-align: right;\n",
       "    }\n",
       "\n",
       "    .dataframe thead th {\n",
       "        text-align: left;\n",
       "    }\n",
       "\n",
       "    .dataframe tbody tr th {\n",
       "        vertical-align: top;\n",
       "    }\n",
       "</style>\n",
       "<table border=\"1\" class=\"dataframe\">\n",
       "  <thead>\n",
       "    <tr style=\"text-align: right;\">\n",
       "      <th></th>\n",
       "      <th>id</th>\n",
       "      <th>ad</th>\n",
       "      <th>education</th>\n",
       "      <th>ofjobs</th>\n",
       "      <th>yearsexp</th>\n",
       "      <th>honors</th>\n",
       "      <th>volunteer</th>\n",
       "      <th>military</th>\n",
       "      <th>empholes</th>\n",
       "      <th>occupspecific</th>\n",
       "      <th>...</th>\n",
       "      <th>compreq</th>\n",
       "      <th>orgreq</th>\n",
       "      <th>manuf</th>\n",
       "      <th>transcom</th>\n",
       "      <th>bankreal</th>\n",
       "      <th>trade</th>\n",
       "      <th>busservice</th>\n",
       "      <th>othservice</th>\n",
       "      <th>missind</th>\n",
       "      <th>ownership</th>\n",
       "    </tr>\n",
       "  </thead>\n",
       "  <tbody>\n",
       "    <tr>\n",
       "      <th>0</th>\n",
       "      <td>b</td>\n",
       "      <td>1</td>\n",
       "      <td>4</td>\n",
       "      <td>2</td>\n",
       "      <td>6</td>\n",
       "      <td>0</td>\n",
       "      <td>0</td>\n",
       "      <td>0</td>\n",
       "      <td>1</td>\n",
       "      <td>17</td>\n",
       "      <td>...</td>\n",
       "      <td>1.0</td>\n",
       "      <td>0.0</td>\n",
       "      <td>1.0</td>\n",
       "      <td>0.0</td>\n",
       "      <td>0.0</td>\n",
       "      <td>0.0</td>\n",
       "      <td>0.0</td>\n",
       "      <td>0.0</td>\n",
       "      <td>0.0</td>\n",
       "      <td></td>\n",
       "    </tr>\n",
       "    <tr>\n",
       "      <th>1</th>\n",
       "      <td>b</td>\n",
       "      <td>1</td>\n",
       "      <td>3</td>\n",
       "      <td>3</td>\n",
       "      <td>6</td>\n",
       "      <td>0</td>\n",
       "      <td>1</td>\n",
       "      <td>1</td>\n",
       "      <td>0</td>\n",
       "      <td>316</td>\n",
       "      <td>...</td>\n",
       "      <td>1.0</td>\n",
       "      <td>0.0</td>\n",
       "      <td>1.0</td>\n",
       "      <td>0.0</td>\n",
       "      <td>0.0</td>\n",
       "      <td>0.0</td>\n",
       "      <td>0.0</td>\n",
       "      <td>0.0</td>\n",
       "      <td>0.0</td>\n",
       "      <td></td>\n",
       "    </tr>\n",
       "    <tr>\n",
       "      <th>2</th>\n",
       "      <td>b</td>\n",
       "      <td>1</td>\n",
       "      <td>4</td>\n",
       "      <td>1</td>\n",
       "      <td>6</td>\n",
       "      <td>0</td>\n",
       "      <td>0</td>\n",
       "      <td>0</td>\n",
       "      <td>0</td>\n",
       "      <td>19</td>\n",
       "      <td>...</td>\n",
       "      <td>1.0</td>\n",
       "      <td>0.0</td>\n",
       "      <td>1.0</td>\n",
       "      <td>0.0</td>\n",
       "      <td>0.0</td>\n",
       "      <td>0.0</td>\n",
       "      <td>0.0</td>\n",
       "      <td>0.0</td>\n",
       "      <td>0.0</td>\n",
       "      <td></td>\n",
       "    </tr>\n",
       "    <tr>\n",
       "      <th>3</th>\n",
       "      <td>b</td>\n",
       "      <td>1</td>\n",
       "      <td>3</td>\n",
       "      <td>4</td>\n",
       "      <td>6</td>\n",
       "      <td>0</td>\n",
       "      <td>1</td>\n",
       "      <td>0</td>\n",
       "      <td>1</td>\n",
       "      <td>313</td>\n",
       "      <td>...</td>\n",
       "      <td>1.0</td>\n",
       "      <td>0.0</td>\n",
       "      <td>1.0</td>\n",
       "      <td>0.0</td>\n",
       "      <td>0.0</td>\n",
       "      <td>0.0</td>\n",
       "      <td>0.0</td>\n",
       "      <td>0.0</td>\n",
       "      <td>0.0</td>\n",
       "      <td></td>\n",
       "    </tr>\n",
       "    <tr>\n",
       "      <th>4</th>\n",
       "      <td>b</td>\n",
       "      <td>1</td>\n",
       "      <td>3</td>\n",
       "      <td>3</td>\n",
       "      <td>22</td>\n",
       "      <td>0</td>\n",
       "      <td>0</td>\n",
       "      <td>0</td>\n",
       "      <td>0</td>\n",
       "      <td>313</td>\n",
       "      <td>...</td>\n",
       "      <td>1.0</td>\n",
       "      <td>1.0</td>\n",
       "      <td>0.0</td>\n",
       "      <td>0.0</td>\n",
       "      <td>0.0</td>\n",
       "      <td>0.0</td>\n",
       "      <td>0.0</td>\n",
       "      <td>1.0</td>\n",
       "      <td>0.0</td>\n",
       "      <td>Nonprofit</td>\n",
       "    </tr>\n",
       "  </tbody>\n",
       "</table>\n",
       "<p>5 rows × 65 columns</p>\n",
       "</div>"
      ],
      "text/plain": [
       "  id ad  education  ofjobs  yearsexp  honors  volunteer  military  empholes  \\\n",
       "0  b  1          4       2         6       0          0         0         1   \n",
       "1  b  1          3       3         6       0          1         1         0   \n",
       "2  b  1          4       1         6       0          0         0         0   \n",
       "3  b  1          3       4         6       0          1         0         1   \n",
       "4  b  1          3       3        22       0          0         0         0   \n",
       "\n",
       "   occupspecific    ...      compreq  orgreq  manuf  transcom  bankreal trade  \\\n",
       "0             17    ...          1.0     0.0    1.0       0.0       0.0   0.0   \n",
       "1            316    ...          1.0     0.0    1.0       0.0       0.0   0.0   \n",
       "2             19    ...          1.0     0.0    1.0       0.0       0.0   0.0   \n",
       "3            313    ...          1.0     0.0    1.0       0.0       0.0   0.0   \n",
       "4            313    ...          1.0     1.0    0.0       0.0       0.0   0.0   \n",
       "\n",
       "  busservice othservice  missind  ownership  \n",
       "0        0.0        0.0      0.0             \n",
       "1        0.0        0.0      0.0             \n",
       "2        0.0        0.0      0.0             \n",
       "3        0.0        0.0      0.0             \n",
       "4        0.0        1.0      0.0  Nonprofit  \n",
       "\n",
       "[5 rows x 65 columns]"
      ]
     },
     "execution_count": 41,
     "metadata": {},
     "output_type": "execute_result"
    }
   ],
   "source": [
    "data.head()"
   ]
  },
  {
   "cell_type": "markdown",
   "metadata": {},
   "source": [
    "### Hypothesis Test Comparing Population Proportions\n",
    "I will use a hypothesis test that relies on the CLT to determine if I can reject the null hypothesis.   \n",
    "##### Null Hypothesis\n",
    "There is no difference between call backs for black-sounding and white-sounding names.\n",
    "##### Alternate Hypothesis\n",
    "There is a difference between call backs for black-sounding and white-sounding names. Black-sounding names are less likely to receive a call back. "
   ]
  },
  {
   "cell_type": "code",
   "execution_count": 42,
   "metadata": {
    "collapsed": true
   },
   "outputs": [],
   "source": [
    "#white and black data sets\n",
    "white = data[data['race']=='w']\n",
    "black = data[data['race']=='b']\n",
    "#number of callbacks for each race\n",
    "w_cb = sum(data[data.race=='w'].call)\n",
    "b_cb = sum(data[data.race=='b'].call)\n",
    "#number of resumes for each race\n",
    "w_n = len(white)\n",
    "b_n = len(black)\n",
    "#mean and p value\n",
    "w_m_p = round(w_cb/w_n, 3)\n",
    "b_m_p = round(b_cb/b_n, 3)\n",
    "#variance to use to calculate difference of std\n",
    "w_var = round(w_m_p*(1-w_m_p)/w_n, 6)\n",
    "b_var = round(b_m_p*(1-b_m_p)/b_n, 6)\n"
   ]
  },
  {
   "cell_type": "code",
   "execution_count": 43,
   "metadata": {},
   "outputs": [
    {
     "name": "stdout",
     "output_type": "stream",
     "text": [
      "Statisitcs for white sounding names:\n",
      "Number of call backs: 235.0\n",
      "Total number of resumes: 2435\n",
      "P-value of call backs: 0.064\n",
      "Mean: 0.097\n",
      "Variance: 3.6e-05\n",
      "\n",
      "Statisitcs for black sounding names:\n",
      "Number of call backs: 157.0\n",
      "Total number of resumes: 2435\n",
      "P-value of call backs: 0.064\n",
      "Mean: 0.064\n",
      "Variance: 2.5e-05\n"
     ]
    }
   ],
   "source": [
    "print('Statisitcs for white sounding names:')\n",
    "print('Number of call backs: ' + str(w_cb))\n",
    "print('Total number of resumes: ' + str(w_n))\n",
    "print('P-value of call backs: ' + str(round(b_cb/b_n, 3)))\n",
    "print('Mean: ' + str(w_m_p))\n",
    "print('Variance: ' + str(w_var))\n",
    "print('')\n",
    "print('Statisitcs for black sounding names:')\n",
    "print('Number of call backs: ' + str(b_cb))\n",
    "print('Total number of resumes: ' + str(b_n))\n",
    "print('P-value of call backs: ' + str(b_m_p))\n",
    "print('Mean: ' + str(b_m_p))\n",
    "print('Variance: ' + str(b_var))\n"
   ]
  },
  {
   "cell_type": "markdown",
   "metadata": {
    "collapsed": true
   },
   "source": [
    "### Test Null Hypothesis\n",
    "If p < 5% reject the null hypothesis"
   ]
  },
  {
   "cell_type": "code",
   "execution_count": 44,
   "metadata": {},
   "outputs": [],
   "source": [
    "#differences in white-sounding names and black-sounding names means\n",
    "diff_mean = w_m_p -  b_m_p\n",
    "#adding n values for total sample size\n",
    "joint_n = w_n + b_n\n",
    "#mean for the null hypothesis - assuming there is no difference between the means\n",
    "null_mean = 0\n",
    "#calculating joint probability\n",
    "joint_p = round((w_cb + b_cb)/(w_n + b_n),2)\n",
    "#using variable as short cut for 1-p in variance calculation\n",
    "p_1 = 1 - joint_p\n",
    "#variance using (p*(1-p) + p*(1-p)/(n1+n2))\n",
    "joint_var = 2 * joint_p * p_1 / joint_n\n",
    "joint_std = round(np.sqrt(joint_var), 4)\n",
    "#finding the z_score for the difference of sample means\n",
    "z_sample = round(diff_mean/joint_std ,4)"
   ]
  },
  {
   "cell_type": "code",
   "execution_count": 45,
   "metadata": {},
   "outputs": [
    {
     "name": "stdout",
     "output_type": "stream",
     "text": [
      "Difference in means: 0.033\n",
      "Null hypothesis mean: 0\n",
      "Standard deviation: 0.0055\n",
      "Z-score for difference of sample means: 6.0\n",
      "P value for difference of means: .0000003%\n"
     ]
    }
   ],
   "source": [
    "print('Difference in means: ' + str(diff_mean))\n",
    "print('Null hypothesis mean: ' + str(null_mean))\n",
    "print('Standard deviation: ' + str(joint_std))\n",
    "print('Z-score for difference of sample means: ' + str(z_sample))\n",
    "print('P value for difference of means: .0000003%')\n"
   ]
  },
  {
   "cell_type": "markdown",
   "metadata": {},
   "source": [
    "### Reject Null Hypothesis\n",
    "The z-score for the difference of our sample means is 6.0, which is greater than 1.65, the z-score used to calculate a 95% confidence interval. Using a z-score calculator, I discovered the p-value of our sample is .000000003, therefore allowing us to confidently reject the null hypothesis. \n",
    "\n",
    "Since we can reject the null hypothesis, we assume that there is a difference between how many call backs black sounding names and white sounding names will recieve. "
   ]
  },
  {
   "cell_type": "code",
   "execution_count": 46,
   "metadata": {
    "collapsed": true
   },
   "outputs": [],
   "source": [
    "#creating 1-p variable to make it easier to write variance \n",
    "pb_1 = 1 - b_m_p\n",
    "pw_1 = 1 - w_m_p\n",
    "#variance using (p1*(1-p1)/n1 + p2*(1-p2)/n2)\n",
    "var = (b_m_p*pb_1/b_n) + (w_m_p*pw_1/w_n)\n",
    "#standard deviation - taking square root of variance \n",
    "std = round(np.sqrt(var), 3)\n",
    "#margin of error\n",
    "marg_err = 1.65 * std\n",
    "#confidence interval\n",
    "conf_int1 = diff_mean - marg_err\n",
    "conf_int2 = diff_mean + marg_err"
   ]
  },
  {
   "cell_type": "code",
   "execution_count": 47,
   "metadata": {},
   "outputs": [
    {
     "name": "stdout",
     "output_type": "stream",
     "text": [
      "Difference in means: 0.033\n",
      "Standard deviation: 0.008\n",
      "Margin of Error: + or - 0.0132\n",
      "95% Confidence Interval: 0.0198-0.0462\n"
     ]
    }
   ],
   "source": [
    "print('Difference in means: ' + str(diff_mean))\n",
    "print('Standard deviation: ' + str(std))\n",
    "print('Margin of Error: + or - ' + str(marg_err))\n",
    "print('95% Confidence Interval: ' + str(conf_int1) + '-' + str(conf_int2))"
   ]
  },
  {
   "cell_type": "markdown",
   "metadata": {},
   "source": [
    "### Summary\n",
    "I am confident that there is a 95% chance that white-sounding names will recieve between 2% and 4.6% more callbacks than black-sounding names. The margin of error is 1.3% \n",
    "The analysis shows that race is a factor in the amount of call backs an individual recieves. "
   ]
  },
  {
   "cell_type": "code",
   "execution_count": null,
   "metadata": {
    "collapsed": true
   },
   "outputs": [],
   "source": []
  }
 ],
 "metadata": {
  "kernelspec": {
   "display_name": "Python 3",
   "language": "python",
   "name": "python3"
  },
  "language_info": {
   "codemirror_mode": {
    "name": "ipython",
    "version": 3
   },
   "file_extension": ".py",
   "mimetype": "text/x-python",
   "name": "python",
   "nbconvert_exporter": "python",
   "pygments_lexer": "ipython3",
   "version": "3.6.1"
  }
 },
 "nbformat": 4,
 "nbformat_minor": 1
}
